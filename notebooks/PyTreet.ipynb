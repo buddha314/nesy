{
 "cells": [
  {
   "cell_type": "markdown",
   "id": "46f7c960",
   "metadata": {},
   "source": [
    "# PyTree Mess Around\n",
    "\n",
    "A very ROS implementation of Behavior Trees, [PyTree](https://github.com/splintered-reality/py_trees).  The [examples](https://github.com/splintered-reality/py_trees/tree/devel/doc/examples) directory isn't too bad.  I don't know why, but it took a minute to find the [actual dev docs](https://py-trees.readthedocs.io/en/devel/)"
   ]
  },
  {
   "cell_type": "code",
   "execution_count": 1,
   "id": "754cb4f0",
   "metadata": {},
   "outputs": [],
   "source": [
    "import py_trees"
   ]
  },
  {
   "cell_type": "markdown",
   "id": "0c00882c",
   "metadata": {},
   "source": [
    "## Included Examples"
   ]
  },
  {
   "cell_type": "code",
   "execution_count": 2,
   "id": "4c6594d8",
   "metadata": {},
   "outputs": [
    {
     "name": "stdout",
     "output_type": "stream",
     "text": [
      "Writing /home/buddha/src/nesy/notebooks/oneshot.dot\n",
      "Writing /home/buddha/src/nesy/notebooks/oneshot.png\n",
      "Writing /home/buddha/src/nesy/notebooks/oneshot.svg\n"
     ]
    },
    {
     "data": {
      "text/plain": [
       "{'dot': '/home/buddha/src/nesy/notebooks/oneshot.dot',\n",
       " 'png': '/home/buddha/src/nesy/notebooks/oneshot.png',\n",
       " 'svg': '/home/buddha/src/nesy/notebooks/oneshot.svg'}"
      ]
     },
     "execution_count": 2,
     "metadata": {},
     "output_type": "execute_result"
    }
   ],
   "source": [
    "sequence = py_trees.composites.Sequence(\"Sequence\")\n",
    "guard = py_trees.behaviours.Success(name=\"Guard\")\n",
    "a1 = py_trees.behaviours.Success(name=\"Action 1\")\n",
    "a2 = py_trees.behaviours.Success(name=\"Action 2\")\n",
    "a3 = py_trees.behaviours.Success(name=\"Action 3\")\n",
    "sequence.add_children([guard, a1, a2, a3])\n",
    "root = py_trees.idioms.oneshot(\n",
    "    name=\"OneShot\",\n",
    "    variable_name=\"oneshot\",\n",
    "    behaviour=sequence,\n",
    "    policy=py_trees.common.OneShotPolicy.ON_COMPLETION)\n",
    "py_trees.display.render_dot_tree(root, py_trees.common.string_to_visibility_level(\"all\"))"
   ]
  },
  {
   "cell_type": "markdown",
   "id": "026b152c",
   "metadata": {},
   "source": [
    "![Output PNG](oneshot.png)"
   ]
  },
  {
   "cell_type": "code",
   "execution_count": null,
   "id": "3b07eff6",
   "metadata": {},
   "outputs": [],
   "source": []
  }
 ],
 "metadata": {
  "kernelspec": {
   "display_name": "Python 3 (ipykernel)",
   "language": "python",
   "name": "python3"
  },
  "language_info": {
   "codemirror_mode": {
    "name": "ipython",
    "version": 3
   },
   "file_extension": ".py",
   "mimetype": "text/x-python",
   "name": "python",
   "nbconvert_exporter": "python",
   "pygments_lexer": "ipython3",
   "version": "3.10.6"
  }
 },
 "nbformat": 4,
 "nbformat_minor": 5
}
