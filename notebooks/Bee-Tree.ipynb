{
 "cells": [
  {
   "cell_type": "markdown",
   "id": "9b74f37b",
   "metadata": {},
   "source": [
    "# Python Async BTree 'Sparemints\n",
    "\n",
    "Messing with [async-btree](https://geronimo-iia.github.io/async-btree/) to see if we like it.\n",
    "\n",
    "There is definite goodness in this library, but it's a bit stale and has few examples."
   ]
  },
  {
   "cell_type": "code",
   "execution_count": 23,
   "id": "e5641a13",
   "metadata": {},
   "outputs": [],
   "source": [
    "import async_btree as bt\n",
    "import curio\n",
    "import random"
   ]
  },
  {
   "cell_type": "markdown",
   "id": "2779f8c8",
   "metadata": {},
   "source": [
    "## Tutorial Code\n",
    "Make sure it works.  Not always safe to assume, this was an example. They missed the `self` in the class below."
   ]
  },
  {
   "cell_type": "code",
   "execution_count": 14,
   "id": "88999f33",
   "metadata": {},
   "outputs": [
    {
     "name": "stdout",
     "output_type": "stream",
     "text": [
      "Hello: John\n",
      "battery ok\n",
      "GripperInterface Open\n",
      "approach_object: house\n",
      "GripperInterface Close\n"
     ]
    },
    {
     "data": {
      "text/plain": [
       "[True, True, True, True, True]"
      ]
     },
     "execution_count": 14,
     "metadata": {},
     "output_type": "execute_result"
    }
   ],
   "source": [
    "def approach_object(name: str):\n",
    "    print(f\"approach_object: {name}\")\n",
    "    return True\n",
    "    \n",
    "def check_battery():\n",
    "    print(\"battery ok\")\n",
    "    return True\n",
    "\n",
    "async def say_hello(name: str):\n",
    "    print(f\"Hello: {name}\")\n",
    "    return True\n",
    "    \n",
    "\"\"\"\n",
    "approach_house_object_action = bt.action(target=approach_object, name=\"house\")\n",
    "\n",
    "check_battery_action = bt.action(target=check_battery)\n",
    "\n",
    "say_hello_john = bt.action(target=say_hello, name=\"John\")\n",
    "\"\"\"\n",
    "\n",
    "\n",
    "class GripperInterface:\n",
    "\n",
    "    def __init__(self):\n",
    "        self._open = False\n",
    "\n",
    "\n",
    "    def open(self):\n",
    "        print(\"GripperInterface Open\")\n",
    "        self._open = True\n",
    "        return True\n",
    "\n",
    "    def close(self):\n",
    "        print(\"GripperInterface Close\")\n",
    "        self._open = False\n",
    "        return True\n",
    "\n",
    "gripper = GripperInterface()\n",
    "\n",
    "b_tree = bt.sequence(children= [\n",
    "    bt.action(target=say_hello, name=\"John\"),\n",
    "    bt.action(target=check_battery),\n",
    "    bt.action(target=gripper.open),\n",
    "    bt.action(target=approach_object, name=\"house\"),\n",
    "    bt.action(target=gripper.close)\n",
    "])\n",
    "\n",
    "curio.run(b_tree)"
   ]
  },
  {
   "cell_type": "code",
   "execution_count": 6,
   "id": "6d187a15",
   "metadata": {},
   "outputs": [
    {
     "name": "stdout",
     "output_type": "stream",
     "text": [
      "Hello: John\n",
      "battery ok\n",
      "GripperInterface Open\n",
      "approach_object: house\n",
      "GripperInterface Close\n"
     ]
    },
    {
     "data": {
      "text/plain": [
       "[True, True, True, True, True]"
      ]
     },
     "execution_count": 6,
     "metadata": {},
     "output_type": "execute_result"
    }
   ],
   "source": [
    "b_tree = bt.sequence(children= [\n",
    "    bt.always_success(child=bt.action(target=say_hello, name=\"John\")),\n",
    "    bt.always_success(child=bt.action(target=check_battery)),\n",
    "    bt.always_success(child=bt.action(target=gripper.open)),\n",
    "    bt.always_success(child=bt.action(target=approach_object, name=\"house\")),\n",
    "    bt.always_success(child=bt.action(target=gripper.close))\n",
    "])\n",
    "\n",
    "curio.run(b_tree)"
   ]
  },
  {
   "cell_type": "markdown",
   "id": "c5956dd0",
   "metadata": {},
   "source": [
    "## Something Else\n",
    "\n",
    "This is where the documentation kinda falls apart."
   ]
  },
  {
   "cell_type": "code",
   "execution_count": 41,
   "id": "bbb7b1ff",
   "metadata": {},
   "outputs": [],
   "source": [
    "def max_damage(name: str):\n",
    "    x = random.randint(1,4)\n",
    "    if (x == 4):\n",
    "        print(\"{n}: I rolled a 4!\".format(n=name))\n",
    "        return bt.SUCCESS\n",
    "    else:\n",
    "        print(\"{n}: Hold on, hit the pizza box\".format(n=name))\n",
    "        return bt.FAILURE"
   ]
  },
  {
   "cell_type": "code",
   "execution_count": 42,
   "id": "83a25179",
   "metadata": {},
   "outputs": [
    {
     "name": "stdout",
     "output_type": "stream",
     "text": [
      "Borfrim: Hold on, hit the pizza box\n",
      "result : False\n",
      "Borfrim: Hold on, hit the pizza box\n",
      "result : False\n",
      "Borfrim: Hold on, hit the pizza box\n",
      "result : False\n",
      "Borfrim: Hold on, hit the pizza box\n",
      "result : False\n",
      "Borfrim: Hold on, hit the pizza box\n",
      "result : False\n",
      "Borfrim: I rolled a 4!\n",
      "result : True\n"
     ]
    },
    {
     "data": {
      "text/plain": [
       "[True]"
      ]
     },
     "execution_count": 42,
     "metadata": {},
     "output_type": "execute_result"
    }
   ],
   "source": [
    "b_tree = bt.sequence(\n",
    "    children = [\n",
    "        bt.retry_until_success(bt.action(target=max_damage, name=\"Borfrim\"))\n",
    "    ]\n",
    ")\n",
    "curio.run(b_tree)"
   ]
  },
  {
   "cell_type": "code",
   "execution_count": null,
   "id": "1cff3305",
   "metadata": {},
   "outputs": [],
   "source": []
  }
 ],
 "metadata": {
  "kernelspec": {
   "display_name": "Python 3 (ipykernel)",
   "language": "python",
   "name": "python3"
  },
  "language_info": {
   "codemirror_mode": {
    "name": "ipython",
    "version": 3
   },
   "file_extension": ".py",
   "mimetype": "text/x-python",
   "name": "python",
   "nbconvert_exporter": "python",
   "pygments_lexer": "ipython3",
   "version": "3.10.6"
  }
 },
 "nbformat": 4,
 "nbformat_minor": 5
}
