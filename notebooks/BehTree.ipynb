{
 "cells": [
  {
   "cell_type": "markdown",
   "id": "c83e78c3",
   "metadata": {},
   "source": [
    "# Behavior Trees\n",
    "\n",
    "Just messing with it to see how it goes.  There are a few different libraries.\n",
    "* [BehaviorTree](https://github.com/Onicc/BehaviorTree.py) which links directly back to the CPP library\n",
    "* [py_trees](https://github.com/splintered-reality/py_trees) Points to ROS as well and a [viz](https://github.com/splintered-reality/py_trees_ros_viewer/blob/devel/README.md) library.\n",
    "* [Async-Btree](https://github.com/geronimo-iia/async-btree) I remember thinking this one is good a while ago..."
   ]
  },
  {
   "cell_type": "markdown",
   "id": "ae3f5228",
   "metadata": {},
   "source": [
    "## BehaviorTree Library\n",
    "The first one mentioned above"
   ]
  },
  {
   "cell_type": "code",
   "execution_count": 1,
   "id": "ec58b4c7",
   "metadata": {},
   "outputs": [],
   "source": [
    "import sys\n",
    "from behaviortree.tree import Tree"
   ]
  },
  {
   "cell_type": "code",
   "execution_count": 6,
   "id": "1fd3e62e",
   "metadata": {},
   "outputs": [],
   "source": [
    "def check_for_numbers(s):\n",
    "    result = any(chr.isdigit() for chr in s)\n",
    "    return result"
   ]
  },
  {
   "cell_type": "code",
   "execution_count": 7,
   "id": "511bb405",
   "metadata": {},
   "outputs": [
    {
     "data": {
      "text/plain": [
       "False"
      ]
     },
     "execution_count": 7,
     "metadata": {},
     "output_type": "execute_result"
    }
   ],
   "source": [
    "check_for_numbers(\"nope\")"
   ]
  },
  {
   "cell_type": "code",
   "execution_count": 8,
   "id": "9df80a6f",
   "metadata": {},
   "outputs": [
    {
     "data": {
      "text/plain": [
       "True"
      ]
     },
     "execution_count": 8,
     "metadata": {},
     "output_type": "execute_result"
    }
   ],
   "source": [
    "check_for_numbers(\"y3p\")"
   ]
  },
  {
   "cell_type": "code",
   "execution_count": 9,
   "id": "8ff16263",
   "metadata": {},
   "outputs": [],
   "source": [
    "bt = Tree()"
   ]
  },
  {
   "cell_type": "code",
   "execution_count": 10,
   "id": "3f71f170",
   "metadata": {},
   "outputs": [
    {
     "data": {
      "text/plain": [
       "['_Tree__add_child',\n",
       " '_Tree__copy',\n",
       " '_Tree__gen_tree',\n",
       " '_Tree__get_func_name',\n",
       " '_Tree__get_parent',\n",
       " '__class__',\n",
       " '__delattr__',\n",
       " '__dict__',\n",
       " '__dir__',\n",
       " '__doc__',\n",
       " '__eq__',\n",
       " '__format__',\n",
       " '__ge__',\n",
       " '__getattribute__',\n",
       " '__gt__',\n",
       " '__hash__',\n",
       " '__init__',\n",
       " '__init_subclass__',\n",
       " '__le__',\n",
       " '__lt__',\n",
       " '__module__',\n",
       " '__ne__',\n",
       " '__new__',\n",
       " '__reduce__',\n",
       " '__reduce_ex__',\n",
       " '__repr__',\n",
       " '__setattr__',\n",
       " '__sizeof__',\n",
       " '__str__',\n",
       " '__subclasshook__',\n",
       " '__weakref__',\n",
       " 'child_',\n",
       " 'depth_',\n",
       " 'dump',\n",
       " 'func_',\n",
       " 'gen_tree',\n",
       " 'get_func_name',\n",
       " 'id_',\n",
       " 'index_',\n",
       " 'parent_',\n",
       " 'run',\n",
       " 'type_']"
      ]
     },
     "execution_count": 10,
     "metadata": {},
     "output_type": "execute_result"
    }
   ],
   "source": [
    "dir(bt)"
   ]
  },
  {
   "cell_type": "code",
   "execution_count": null,
   "id": "87f6deb8",
   "metadata": {},
   "outputs": [],
   "source": [
    "bt.  "
   ]
  },
  {
   "cell_type": "markdown",
   "id": "9d65d2b4",
   "metadata": {},
   "source": [
    "## PyTree\n",
    "\n",
    "Seems a bit more mature and closer to ROS."
   ]
  },
  {
   "cell_type": "code",
   "execution_count": 1,
   "id": "ed8e7d5b",
   "metadata": {},
   "outputs": [],
   "source": [
    "import py_trees"
   ]
  },
  {
   "cell_type": "code",
   "execution_count": 2,
   "id": "c88e52e1",
   "metadata": {},
   "outputs": [],
   "source": [
    "root = py_trees.composites.Parallel(\n",
    "    name=\"Tutorial One\",\n",
    "    policy=py_trees.common.ParallelPolicy.SuccessOnAll(\n",
    "        synchronise=False\n",
    "    )\n",
    ")"
   ]
  },
  {
   "cell_type": "code",
   "execution_count": 3,
   "id": "d00a5477",
   "metadata": {},
   "outputs": [],
   "source": [
    "topics2bb = py_trees.composites.Sequence(\"Topics2BB\")"
   ]
  },
  {
   "cell_type": "code",
   "execution_count": null,
   "id": "29a3617c",
   "metadata": {},
   "outputs": [],
   "source": []
  }
 ],
 "metadata": {
  "kernelspec": {
   "display_name": "Python 3 (ipykernel)",
   "language": "python",
   "name": "python3"
  },
  "language_info": {
   "codemirror_mode": {
    "name": "ipython",
    "version": 3
   },
   "file_extension": ".py",
   "mimetype": "text/x-python",
   "name": "python",
   "nbconvert_exporter": "python",
   "pygments_lexer": "ipython3",
   "version": "3.10.6"
  }
 },
 "nbformat": 4,
 "nbformat_minor": 5
}
